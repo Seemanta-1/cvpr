{
  "nbformat": 4,
  "nbformat_minor": 0,
  "metadata": {
    "colab": {
      "provenance": []
    },
    "kernelspec": {
      "name": "python3",
      "display_name": "Python 3"
    },
    "language_info": {
      "name": "python"
    }
  },
  "cells": [
    {
      "cell_type": "code",
      "execution_count": null,
      "metadata": {
        "id": "Vm89LVCyjVXU"
      },
      "outputs": [],
      "source": [
        "import cv2\n",
        "import numpy as np\n",
        "import tensorflow as tf\n",
        "\n",
        "# Load saved model\n",
        "model = tf.keras.models.load_model(\"mnist_model.h5\")\n",
        "\n",
        "# Prediction function\n",
        "def predict_digit(img):\n",
        "    img = cv2.resize(img, (28, 28))\n",
        "    img = img.reshape(1, 28, 28, 1)\n",
        "    img = img.astype(\"float32\") / 255.0\n",
        "    pred = model.predict(img)\n",
        "    return np.argmax(pred), np.max(pred)\n",
        "\n",
        "# Start camera\n",
        "cap = cv2.VideoCapture(0)\n",
        "\n",
        "while True:\n",
        "    ret, frame = cap.read()\n",
        "    if not ret:\n",
        "        break\n",
        "\n",
        "    # Frame shape\n",
        "    h, w, _ = frame.shape\n",
        "\n",
        "    # ROI (blue box)\n",
        "    box_size = 250\n",
        "    x1 = w // 2 - box_size // 2\n",
        "    y1 = h // 2 - box_size // 2\n",
        "    x2 = w // 2 + box_size // 2\n",
        "    y2 = h // 2 + box_size // 2\n",
        "\n",
        "    # Rectangle\n",
        "    cv2.rectangle(frame, (x1, y1), (x2, y2), (255, 0, 0), 2)\n",
        "\n",
        "    # ROI\n",
        "    roi = frame[y1:y2, x1:x2]\n",
        "\n",
        "    # Grayscale + Gaussian Blur + Threshold\n",
        "    gray = cv2.cvtColor(roi, cv2.COLOR_BGR2GRAY)\n",
        "    blur = cv2.GaussianBlur(gray, (5, 5), 0)\n",
        "    _, thres = cv2.threshold(blur, 128, 255, cv2.THRESH_BINARY_INV)\n",
        "\n",
        "    # Prediction\n",
        "    digit, acc = predict_digit(thres)\n",
        "\n",
        "    # Prediction\n",
        "    cv2.putText(frame, f\"Prediction: {digit} ({acc*100:.2f}%)\",\n",
        "                (10, 50), cv2.FONT_HERSHEY_SIMPLEX,\n",
        "                1, (0, 255, 0), 2)\n",
        "\n",
        "    # Original frame\n",
        "    cv2.imshow(\"Digit Recognition\", frame)\n",
        "\n",
        "    # processed (B/W)\n",
        "    cv2.imshow(\"Processed ROI\", thres)\n",
        "\n",
        "    # Press 'q' to quit\n",
        "    if cv2.waitKey(1) & 0xFF == ord('q'):\n",
        "        break\n",
        "\n",
        "cap.release()\n",
        "cv2.destroyAllWindows()\n"
      ]
    }
  ]
}